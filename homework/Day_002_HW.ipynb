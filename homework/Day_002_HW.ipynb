{
 "cells": [
  {
   "cell_type": "markdown",
   "metadata": {},
   "source": [
    "## [作業目標]\n",
    "了解機器學習適合應用的領域與範疇。"
   ]
  },
  {
   "cell_type": "markdown",
   "metadata": {},
   "source": [
    "## [作業重點]\n",
    "透過瞭解機器學習的運作方式，找出非常適用機器學習應用的領域及其原因"
   ]
  },
  {
   "cell_type": "markdown",
   "metadata": {},
   "source": [
    "## 作業\n",
    "請找出一個你認為機器學習可以發光發熱的領域並闡述原因? "
   ]
  },
  {
   "cell_type": "markdown",
   "metadata": {},
   "outputs": [],
   "source": [
    "機器學習可應用的範圍廣闊，且隨著新的技術突破與模型訓練正逐步擴展著。\n",
    "首先最容易被普及應用的當屬藉由歷史資料進行預測的回歸與分類，實作難度相對較低、準確度高，且容易驗證，此部分的發展在未來可望有效節省較初階的人力需求。\n",
    "其次以非結構化的輸入，如影像、語音衍伸出機器視覺、翻譯、語意了解等，則像是打開了機器的耳目，使機器學習應用領域更為擴張，讓須經由五感的任務可漸漸交由機器處理。\n",
    "而使用生成對抗訓練的模型，則可模擬現實資料去進行創作性產出，離真正的智慧又更近了一步。\n",
    "總括來說，機器學習將會逐漸以助手的角色出現在生活各層面之中，如：手機APP、自駕車、醫學、家電等等，\n",
    "令人期待的反倒不是它的發光發熱，而是成為人類共享的成果，如電力與自來水的普及，然後人們才更能成為自己生命的主人。"
   ]
  }
 ],
 "metadata": {
  "kernelspec": {
   "display_name": "Python 3",
   "language": "python",
   "name": "python3"
  },
  "language_info": {
   "codemirror_mode": {
    "name": "ipython",
    "version": 3
   },
   "file_extension": ".py",
   "mimetype": "text/x-python",
   "name": "python",
   "nbconvert_exporter": "python",
   "pygments_lexer": "ipython3",
   "version": "3.7.3"
  }
 },
 "nbformat": 4,
 "nbformat_minor": 2
}
